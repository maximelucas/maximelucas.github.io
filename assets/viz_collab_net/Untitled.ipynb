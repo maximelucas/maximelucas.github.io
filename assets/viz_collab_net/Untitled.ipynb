{
 "cells": [
  {
   "cell_type": "code",
   "execution_count": 29,
   "id": "7886e385",
   "metadata": {},
   "outputs": [],
   "source": [
    "\n",
    "## some options\n",
    "inputBibFileName = '../../_bibliography/papers.bib'\n",
    "outputJSONFileName = 'collab_net.json'\n",
    "#\n",
    "authorInformationFile = '' #'authorinfoRosalindFranklin.csv' # optional co-author information\n",
    "deleteEgoNode = False\n",
    "##\n",
    "\n",
    "import csv  # for loading comma seperated values\n",
    "import json  # for writing the json\n",
    "import re\n",
    "\n",
    "# import necessary libraries\n",
    "from pybtex.database.input import bibtex  # for reading the bib files\n",
    "\n",
    "\n",
    "# some auxiliary functions\n",
    "# you migth have to add further repalcement rules\n",
    "def latex2unicode( latexString ):\n",
    "    \"takes the name of an author as string and return the string with latex character replaced as normal string for the HTML\"\n",
    "    latexString = latexString.replace('{\\\\\"u}' ,'ü')\n",
    "    latexString = latexString.replace('{\\\\\\'o}' ,'ó')\n",
    "    latexString = latexString.replace('{\\\\\\'a}' ,'á')\n",
    "    return(latexString)\n",
    "\n",
    "# some preperation to read the bibtex file\n",
    "parser = bibtex.Parser()\n",
    "bib_data = parser.parse_file(inputBibFileName)\n",
    "\n",
    "\n",
    "listOfAuthors=[] # empty list of authors"
   ]
  },
  {
   "cell_type": "code",
   "execution_count": 2,
   "id": "44b2cb8f",
   "metadata": {},
   "outputs": [
    {
     "ename": "KeyError",
     "evalue": "'author'",
     "output_type": "error",
     "traceback": [
      "\u001b[0;31m---------------------------------------------------------------------------\u001b[0m",
      "\u001b[0;31mKeyError\u001b[0m                                  Traceback (most recent call last)",
      "Input \u001b[0;32mIn [2]\u001b[0m, in \u001b[0;36m<module>\u001b[0;34m\u001b[0m\n\u001b[1;32m      1\u001b[0m \u001b[38;5;66;03m# go throuh all entries\u001b[39;00m\n\u001b[1;32m      2\u001b[0m \u001b[38;5;28;01mfor\u001b[39;00m paperKeys \u001b[38;5;129;01min\u001b[39;00m bib_data\u001b[38;5;241m.\u001b[39mentries\u001b[38;5;241m.\u001b[39mkeys():\n\u001b[1;32m      3\u001b[0m     \u001b[38;5;66;03m# get the authors of this paper\u001b[39;00m\n\u001b[0;32m----> 4\u001b[0m     authors \u001b[38;5;241m=\u001b[39m \u001b[43mbib_data\u001b[49m\u001b[38;5;241;43m.\u001b[39;49m\u001b[43mentries\u001b[49m\u001b[43m[\u001b[49m\u001b[43mpaperKeys\u001b[49m\u001b[43m]\u001b[49m\u001b[38;5;241;43m.\u001b[39;49m\u001b[43mfields\u001b[49m\u001b[43m[\u001b[49m\u001b[38;5;124;43m'\u001b[39;49m\u001b[38;5;124;43mauthor\u001b[39;49m\u001b[38;5;124;43m'\u001b[39;49m\u001b[43m]\u001b[49m\u001b[38;5;241m.\u001b[39msplit(\u001b[38;5;124m\"\u001b[39m\u001b[38;5;124m and \u001b[39m\u001b[38;5;124m\"\u001b[39m)\n\u001b[1;32m      5\u001b[0m     \u001b[38;5;66;03m# save them to the list of authors\u001b[39;00m\n\u001b[1;32m      6\u001b[0m     \u001b[38;5;28;01mfor\u001b[39;00m author \u001b[38;5;129;01min\u001b[39;00m authors:\n",
      "File \u001b[0;32m/usr/local/lib/python3.9/site-packages/pybtex/utils.py:163\u001b[0m, in \u001b[0;36mCaseInsensitiveDict.__getitem__\u001b[0;34m(self, key)\u001b[0m\n\u001b[1;32m    162\u001b[0m \u001b[38;5;28;01mdef\u001b[39;00m \u001b[38;5;21m__getitem__\u001b[39m(\u001b[38;5;28mself\u001b[39m, key):\n\u001b[0;32m--> 163\u001b[0m     \u001b[38;5;28;01mreturn\u001b[39;00m \u001b[38;5;28;43mself\u001b[39;49m\u001b[38;5;241;43m.\u001b[39;49m\u001b[43m_dict\u001b[49m\u001b[43m[\u001b[49m\u001b[43mkey\u001b[49m\u001b[38;5;241;43m.\u001b[39;49m\u001b[43mlower\u001b[49m\u001b[43m(\u001b[49m\u001b[43m)\u001b[49m\u001b[43m]\u001b[49m\n",
      "\u001b[0;31mKeyError\u001b[0m: 'author'"
     ]
    }
   ],
   "source": [
    "# go throuh all entries\n",
    "for paperKeys in bib_data.entries.keys():\n",
    "    # get the authors of this paper\n",
    "    authors = bib_data.entries[paperKeys].fields['author'].split(\" and \")\n",
    "    # save them to the list of authors\n",
    "    for author in authors:\n",
    "        listOfAuthors.append(author)\n"
   ]
  },
  {
   "cell_type": "code",
   "execution_count": 3,
   "id": "e6425942",
   "metadata": {},
   "outputs": [
    {
     "data": {
      "text/plain": [
       "'zhang2022do'"
      ]
     },
     "execution_count": 3,
     "metadata": {},
     "output_type": "execute_result"
    }
   ],
   "source": [
    "paperKeys"
   ]
  },
  {
   "cell_type": "code",
   "execution_count": 4,
   "id": "bee19eb5",
   "metadata": {},
   "outputs": [
    {
     "data": {
      "text/plain": [
       "BibliographyData(\n",
       "  entries=OrderedCaseInsensitiveDict([\n",
       "    ('zhang2022do', Entry('unpublished',\n",
       "      fields=[\n",
       "        ('title', 'Do higher-order interactions promote synchronization?'), \n",
       "        ('year', '2022'), \n",
       "        ('arxiv', '2203.03060'), \n",
       "        ('code', 'https://github.com/maximelucas/higherorder_sync_promoted'), \n",
       "        ('bibtex_show', 'true'), \n",
       "        ('abstract', 'Higher-order interactions, through which three or more entities interact simultaneously, are important to the faithful modeling of many real-world complex systems. Recent efforts have focused on elucidating the effects of these nonpairwise interactions on the collective behaviors of coupled systems. Interestingly, several examples of higher-order interactions promoting synchronization have been found, raising speculations that this might be a general phenomenon. Here, we demonstrate that even for simple systems such as Kuramoto oscillators, the effects of higher-order interactions are highly nuanced. In particular, we show numerically and analytically that hyperedges typically enhance synchronization in random hypergraphs, but have the opposite effect in simplicial complexes. As an explanation, we identify higher-order degree heterogeneity as the key structural determinant of synchronization stability in systems with a fixed coupling budget. Typical to nonlinear systems, we also capture regimes where pairwise and nonpairwise interactions synergize to optimize synchronization. Our work contributes to a better understanding of dynamical systems with structured higher-order interactions.'), \n",
       "        ('project', 'higher-order_sync')],\n",
       "      persons=OrderedCaseInsensitiveDict([('author', [Person('Zhang, Y. *'), Person('Lucas, M. *'), Person('Battiston, F.')])]))), \n",
       "    ('lucas2021inferring', Entry('unpublished',\n",
       "      fields=[\n",
       "        ('title', 'Inferring cell cycle phases from a partially temporal network of protein interactions'), \n",
       "        ('year', '2021'), \n",
       "        ('biorxiv', '10.1101/2021.03.26.437187v1'), \n",
       "        ('code', 'https://gitlab.com/habermann_lab/phasik'), \n",
       "        ('doi', '10.1101/2021.03.26.437187'), \n",
       "        ('abstract', 'The temporal organisation of biological systems into phases and subphases is often crucial to their functioning. Identifying this multiscale organisation can yield insight into the underlying biological mechanisms at play. To date, however, this identification requires a priori biological knowledge of the system under study. Here, we recover the temporal organisation of the cell cycle of budding yeast into phases and subphases, in an automated way. To do so, we model the cell cycle as a partially temporal network of protein-protein interactions (PPIs) by combining a traditional static PPI network with protein concentration or RNA expression time series data. Then, we cluster the snapshots of this temporal network to infer phases, which show good agreement with our biological knowledge of the cell cycle. We systematically test the robustness of the approach and investigate the effect of having only partial temporal information. The generality of the method makes it suitable for application to other, less well-known biological systems for which the temporal organisation of processes plays an important role.'), \n",
       "        ('project', '\"temporal_cell_cycle\"')],\n",
       "      persons=OrderedCaseInsensitiveDict([('author', [Person('Lucas, M.'), Person('Morris, A.'), Person('Townsend-Teague, A.'), Person('Tichit, L.'), Person('Habermann, B. H.'), Person('Barrat, A.')])]))), \n",
       "    ('newman2021stabilization', Entry('article',\n",
       "      fields=[\n",
       "        ('title', 'Stabilization of cyclic processes by slowly varying forcing'), \n",
       "        ('journal', 'Chaos'), \n",
       "        ('volume', '31'), \n",
       "        ('number', '12'), \n",
       "        ('pages', '123129'), \n",
       "        ('year', '2021'), \n",
       "        ('publisher', 'AIP Publishing LLC'), \n",
       "        ('doi', '10.1063/5.0066641'), \n",
       "        ('code', 'https://doi.org/10.17635/lancaster/researchdata/292'), \n",
       "        ('project', 'nonautonomous_sync'), \n",
       "        ('abstract', 'We introduce a new mathematical framework for the qualitative analysis of dynamical stability, designed particularly for finite-time processes subject to slow-timescale external influences. In particular, our approach is to treat finite-time dynamical systems in terms of a slow–fast formalism in which the slow time only exists in a bounded interval, and consider stability in the singular limit. Applying this to one-dimensional phase dynamics, we provide stability definitions somewhat analogous to the classical infinite-time definitions associated with Aleksandr Lyapunov. With this, we mathematically formalize and generalize a phase-stabilization phenomenon previously described in the physics literature for which the classical stability definitions are inapplicable and instead our new framework is required.')],\n",
       "      persons=OrderedCaseInsensitiveDict([('author', [Person('Newman, J.'), Person('Lucas, M.'), Person('Stefanovska, A.')])]))), \n",
       "    ('lucas2021synchronisation', Entry('incollection',\n",
       "      fields=[\n",
       "        ('title', 'Synchronisation and Non-autonomicity'), \n",
       "        ('booktitle', 'Physics of Biological Oscillators'), \n",
       "        ('pages', '85--110'), \n",
       "        ('year', '2021'), \n",
       "        ('publisher', 'Springer'), \n",
       "        ('doi', '10.1007/978-3-030-59805-1_6'), \n",
       "        ('project', 'nonautonomous_sync'), \n",
       "        ('abstract', 'Thermodynamic openness is key to the long-term stability of living systems and can yield rich dynamical behaviours. Here, we model openness in coupled oscillator systems by introducing an external driving with time-varying parameters. Five systems of increasing complexity are considered: three cases of single driven oscillators followed by two cases of driven networks. We show how the time-varying parameters can enlarge the range of other parameters for which synchronous behaviour is stable. In addition, it can yield additional behaviours such as intermittent synchronisation. The stability of these systems is analysed via short- and long-time Lyapunov exponents, both analytically and numerically. The different dynamical regimes are also described via time-frequency representation. Finally, we compare the stabilising effect of deterministic non-autonomous driving to that of bounded noise. All in all, we give an overview of some effects time-varying parameters can have on synchronisation. These effects could be a key to understand how living systems maintain stability in the face of their ever-changing environment.')],\n",
       "      persons=OrderedCaseInsensitiveDict([('author', [Person('Lucas, M.'), Person('Newman, J.'), Person('Stefanovska, A.')])]))), \n",
       "    ('newman2021non', Entry('incollection',\n",
       "      fields=[\n",
       "        ('title', 'Non-asymptotic-time Dynamics'), \n",
       "        ('booktitle', 'Physics of Biological Oscillators'), \n",
       "        ('pages', '111--129'), \n",
       "        ('year', '2021'), \n",
       "        ('publisher', 'Springer'), \n",
       "        ('doi', '10.1007/978-3-030-59805-1_7'), \n",
       "        ('project', 'nonautonomous_sync'), \n",
       "        ('abstract', 'Traditional analysis of dynamics concerns coordinate-invariant features of the long-time-asymptotic behaviour of a system. Using the non-autonomous Adler equation with slowly varying forcing, we illustrate three of the limitations of this traditional approach. We discuss an alternative, “slow-fast finite-time dynamical systems” approach, that is more suitable for slowly time-dependent one-dimensional phase dynamics, and is likely to be suitable for more general dynamics of open systems involving two or more timescales.')],\n",
       "      persons=OrderedCaseInsensitiveDict([('author', [Person('Newman, J'), Person('Lucas, M.'), Person('Stefanovska, A.')])]))), \n",
       "    ('lucas2020multi', Entry('article',\n",
       "      fields=[\n",
       "        ('title', 'Multiorder Laplacian for synchronization in higher-order networks'), \n",
       "        ('journal', 'Phys. Rev. Res.'), \n",
       "        ('volume', '2'), \n",
       "        ('number', '3'), \n",
       "        ('pages', '033410'), \n",
       "        ('numpages', '14'), \n",
       "        ('doi', '10.1103/PhysRevResearch.2.033410'), \n",
       "        ('year', '2020'), \n",
       "        ('arxiv', '2003.09734'), \n",
       "        ('abstract', 'The emergence of synchronization in systems of coupled agents is a pivotal phenomenon in physics, biology, computer science, and neuroscience. Traditionally, interaction systems have been described as networks, where links encode information only on the pairwise influences among the nodes. Yet, in many systems, interactions among the units take place in larger groups. Recent work has shown that the presence of higher-order interactions between oscillators can significantly affect the emerging dynamics. However, these early studies have mostly considered interactions up to four oscillators at time, and analytical treatments are limited to the all-to-all setting. Here, we propose a general framework that allows us to effectively study populations of oscillators where higher-order interactions of all possible orders are considered, for any complex topology described by arbitrary hypergraphs, and for general coupling functions. To this end, we introduce a multiorder Laplacian whose spectrum determines the stability of the synchronized solution. Our framework is validated on three structures of interactions of increasing complexity. First, we study a population with all-to-all interactions at all orders, for which we can derive in a full analytical manner the Lyapunov exponents of the system, and for which we investigate the effect of including attractive and repulsive interactions. Second, we apply the multiorder Laplacian framework to synchronization on a synthetic model with heterogeneous higher-order interactions. Finally, we compare the dynamics of coupled oscillators with higher-order and pairwise couplings only, for a real dataset describing the macaque brain connectome, highlighting the importance of faithfully representing the complexity of interactions in real-world systems. Taken together, our multiorder Laplacian allows us to obtain a complete analytical characterization of the stability of synchrony in arbitrary higher-order networks, paving the way toward a general treatment of dynamical processes beyond pairwise interactions.'), \n",
       "        ('project', 'higher-order_sync')],\n",
       "      persons=OrderedCaseInsensitiveDict([('author', [Person('Lucas, M.'), Person('Cencetti, G.'), Person('Battiston, F.')])]))), \n",
       "    ('battiston2020networks', Entry('article',\n",
       "      fields=[\n",
       "        ('title', 'Networks beyond pairwise interactions: structure and dynamics'), \n",
       "        ('journal', 'Phys. Rep.'), \n",
       "        ('year', '2020'), \n",
       "        ('volume', '874'), \n",
       "        ('pages', '1--92'), \n",
       "        ('publisher', 'Elsevier'), \n",
       "        ('doi', '10.1016/j.physrep.2020.05.004'), \n",
       "        ('arxiv', '2006.01764'), \n",
       "        ('abstract', 'The complexity of many biological, social and technological systems stems from the richness of the interactions among their units. Over the past decades, a variety of complex systems has been successfully described as networks whose interacting pairs of nodes are connected by links. Yet, from human communications to chemical reactions and ecological systems, interactions can often occur in groups of three or more nodes and cannot be described simply in terms of dyads. Until recently little attention has been devoted to the higher-order architecture of real complex systems. However, a mounting body of evidence is showing that taking the higher-order structure of these systems into account can enhance our modeling capacities and help us understand and predict their dynamical behavior. Here we present a complete overview of the emerging field of networks beyond pairwise interactions. We discuss how to represent higher-order interactions and introduce the different frameworks used to describe higher-order systems, highlighting the links between the existing concepts and representations. We review the measures designed to characterize the structure of these systems and the models proposed to generate synthetic structures, such as random and growing bipartite graphs, hypergraphs and simplicial complexes. We introduce the rapidly growing research on higher-order dynamical systems and dynamical topology, discussing the relations between higher-order interactions and collective behavior. We focus in particular on new emergent phenomena characterizing dynamical processes, such as diffusion, synchronization, spreading, social dynamics and games, when extended beyond pairwise interactions. We conclude with a summary of empirical applications, and an outlook on current modeling and conceptual frontiers.'), \n",
       "        ('project', 'higher-order_sync')],\n",
       "      persons=OrderedCaseInsensitiveDict([('author', [Person('Battiston, F.'), Person('Cencetti, G.'), Person('Iacopini, I.'), Person('Latora, V.'), Person('Lucas, M.'), Person('Patania, A.'), Person('Young, J.-G.'), Person('Petri, G.')])]))), \n",
       "    ('lucas2019synchronisation', Entry('phdthesis',\n",
       "      fields=[\n",
       "        ('title', 'Synchronisation and stability in nonautonomous oscillatory systems'), \n",
       "        ('abstract', 'Many natural and artificial systems can be modelled by ensembles of coupled oscillators. These types of systems can exhibit various synchronisation phenomena, where the interaction between the oscillators leads them to some kind of coherent behaviour, despite heterogeneities in the system. Moreover, many such systems are subject to a timevariable environment which effectively drives them. Many examples can be found in living systems, e.g., the dynamics of a cell is strongly dependent on the ever-changing intra- and extra-cellular ionic concentrations.Motivated by these considerations, this thesis investigates the effect of time-varying parameters on synchronisation and stability in ensembles of coupled oscillators. Timevariability is a crucial ingredient of the dynamics of many real-life systems, and interest in it is only recently starting to grow. Such systems are in general described by nonautonomous equations, which are hard to treat in general. This present work aims at answering questions such as: Can time-variability be detrimental/beneficial to synchronisation? If so, under which conditions? Can time-variability seed new dynamical phenomena? How can one best treat nonautonomous systems?The systems studied can be divided into two categories. First, the effect of a driving oscillator with a time-varying frequency is investigated. It is shown that increasing the amplitude of the frequency modulation can increase the size of the stability region in parameter space, under general assumptions. Short-term dynamics and stability properties are also investigated, and their dynamics is shown to be of importance. Second, the effect of time-varying couplings between the oscillators is considered. This is shown to be able to make the synchronous state unstable and yield oscillation death.Overall, the thesis illustrates that time-variability can be either beneficial or detrimental to synchronous dynamics, and investigates in detail and gives insight about cases of both. It argues towards the general fact that short-term dynamics is often crucial to a physically relevant understanding of nonautonomous systems.'), \n",
       "        ('year', '2019'), \n",
       "        ('doi', '10.17635/lancaster/thesis/502'), \n",
       "        ('language', 'English'), \n",
       "        ('publisher', 'Lancaster University'), \n",
       "        ('school', 'Lancaster University and University of Florence'), \n",
       "        ('pdf', '2019phdlucas.pdf'), \n",
       "        ('project', 'nonautonomous_sync')],\n",
       "      persons=OrderedCaseInsensitiveDict([('author', [Person('Lucas, M.')])]))), \n",
       "    ('lucas2019nonautonomous', Entry('article',\n",
       "      fields=[\n",
       "        ('title', 'Nonautonomous driving induces stability in network of identical oscillators'), \n",
       "        ('journal', 'Phys. Rev. E'), \n",
       "        ('volume', '99'), \n",
       "        ('number', '1'), \n",
       "        ('pages', '012309'), \n",
       "        ('year', '2019'), \n",
       "        ('doi', '10.1103/PhysRevE.99.012309'), \n",
       "        ('arxiv', '1809.04833'), \n",
       "        ('project', 'nonautonomous_sync'), \n",
       "        ('abstract', 'Nonautonomous driving of an oscillator has been shown to enlarge the Arnold tongue in parameter space, but little is known about the analogous effect for a network of oscillators. To test the hypothesis that deterministic nonautonomous perturbation is a good candidate for stabilizing complex dynamics, we consider a network of identical phase oscillators driven by an oscillator with a slowly time-varying frequency. We investigate both the short- and long-term stability of the synchronous solutions of this nonautonomous system. For attractive couplings we show that the region of stability grows as the amplitude of the frequency modulation is increased, through the birth of an intermittent synchronization regime. For repulsive couplings, we propose a control strategy to stabilize the dynamics by altering very slightly the network topology. We also show how, without changing the topology, time-variability in the driving frequency can itself stabilize the dynamics. As a byproduct of the analysis, we observe chimeralike states. We conclude that time-variability-induced stability phenomena are also present in networks, reinforcing the idea that this is a quite realistic scenario for living systems to use in maintaining their functioning in the face of ongoing perturbations.')],\n",
       "      persons=OrderedCaseInsensitiveDict([('author', [Person('Lucas, M.'), Person('Fanelli, D.'), Person('Stefanovska, A.')])]))), \n",
       "    ('lucas2018desynchronization', Entry('article',\n",
       "      fields=[\n",
       "        ('title', 'Desynchronization induced by time-varying network'), \n",
       "        ('journal', 'Europhys. Lett.'), \n",
       "        ('volume', '121'), \n",
       "        ('number', '5'), \n",
       "        ('pages', '50008'), \n",
       "        ('year', '2018'), \n",
       "        ('publisher', 'IOP Publishing'), \n",
       "        ('doi', '10.1209/0295-5075/121/50008'), \n",
       "        ('arxiv', '1802.06580'), \n",
       "        ('project', 'nonautonomous_sync'), \n",
       "        ('abstract', 'The synchronous dynamics of an array of excitable oscillators, coupled via a generic graph, is studied. Non-homogeneous perturbations can grow and destroy synchrony, via a self-consistent instability which is solely instigated by the intrinsic network dynamics. By acting on the characteristic time-scale of the network modulation, one can make the examined system to behave as its (partially) averaged analogue. This result is formally obtained by proving an extended version of the averaging theorem, which allows for partial averages to be carried out. As a byproduct of the analysis, oscillation death is reported to follow the onset of the network-driven instability.')],\n",
       "      persons=OrderedCaseInsensitiveDict([('author', [Person('Lucas, M.'), Person('Fanelli, D.'), Person('Carletti, T.'), Person('Petit, J.')])]))), \n",
       "    ('lucas2018stabilization', Entry('article',\n",
       "      fields=[\n",
       "        ('title', 'Stabilization of dynamics of oscillatory systems by nonautonomous perturbation'), \n",
       "        ('journal', 'Phys. Rev. E'), \n",
       "        ('volume', '97'), \n",
       "        ('number', '4'), \n",
       "        ('pages', '042209'), \n",
       "        ('year', '2018'), \n",
       "        ('doi', '10.1103/PhysRevE.97.042209'), \n",
       "        ('arxiv', '1803.11392'), \n",
       "        ('project', 'nonautonomous_sync'), \n",
       "        ('abstract', 'Synchronization and stability under periodic oscillatory driving are well understood, but little is known about the effects of aperiodic driving, despite its abundance in nature. Here, we consider oscillators subject to driving with slowly varying frequency, and investigate both short-term and long-term stability properties. For a phase oscillator, we find that, counterintuitively, such variation is guaranteed to enlarge the Arnold tongue in parameter space. Using analytical and numerical methods that provide information on time-variable dynamical properties, we find that the growth of the Arnold tongue is specifically due to the growth of a region of intermittent synchronization where trajectories alternate between short-term stability and short-term neutral stability, giving rise to stability on average. We also present examples of higher-dimensional nonlinear oscillators where a similar stabilization phenomenon is numerically observed. Our findings help support the case that in general, deterministic nonautonomous perturbation is a very good candidate for stabilizing complex dynamics.')],\n",
       "      persons=OrderedCaseInsensitiveDict([('author', [Person('Lucas, M.'), Person('Newman, J.'), Person('Stefanovska, A.')])]))), \n",
       "    ('lucas2015instabilities', Entry('mastersthesis',\n",
       "      fields=[\n",
       "        ('title', 'Instabilities in cortical networks with embedded synfire chains'), \n",
       "        ('year', '2015'), \n",
       "        ('language', 'English'), \n",
       "        ('school', 'Katholieke Universiteit Leuven')],\n",
       "      persons=OrderedCaseInsensitiveDict([('author', [Person('Lucas, M.')])]))), \n",
       "    ('lucas2014instabilites', Entry('mastersthesis',\n",
       "      fields=[\n",
       "        ('title', 'Instabilités dynamiques de systèmes de billards avec interactions rares'), \n",
       "        ('year', '2014'), \n",
       "        ('language', 'French'), \n",
       "        ('school', 'Université Libre de Bruxelles')],\n",
       "      persons=OrderedCaseInsensitiveDict([('author', [Person('Lucas, M.')])]))), \n",
       "    ('duncan2014verifying', Entry('article',\n",
       "      fields=[\n",
       "        ('title', 'Verifying the {Steane} code with {Quantomatic}'), \n",
       "        ('journal', 'Electronic Proceedings in Theoretical Computer Science'), \n",
       "        ('volume', '171'), \n",
       "        ('pages', '33--49'), \n",
       "        ('year', '2014'), \n",
       "        ('doi', '10.4204/EPTCS.171.4'), \n",
       "        ('abstract', \"In this paper we give a partially mechanized proof of the correctness of Steane's 7-qubit error correcting code, using the tool Quantomatic. To the best of our knowledge, this represents the largest and most complicated verification task yet carried out using Quantomatic.\")],\n",
       "      persons=OrderedCaseInsensitiveDict([('author', [Person('Duncan, R.'), Person('Lucas, M.')])])))]),\n",
       "\n",
       "  preamble=[])"
      ]
     },
     "execution_count": 4,
     "metadata": {},
     "output_type": "execute_result"
    }
   ],
   "source": [
    "bib_data"
   ]
  },
  {
   "cell_type": "code",
   "execution_count": 8,
   "id": "5200aac4",
   "metadata": {},
   "outputs": [
    {
     "name": "stdout",
     "output_type": "stream",
     "text": [
      "Zhang, Y. *\n",
      "Lucas, M. *\n",
      "Battiston, F.\n"
     ]
    }
   ],
   "source": [
    "for author in bib_data.entries[paperKeys].persons['author']:\n",
    "    print(author)"
   ]
  },
  {
   "cell_type": "code",
   "execution_count": 9,
   "id": "0004a479",
   "metadata": {},
   "outputs": [
    {
     "data": {
      "text/plain": [
       "Person('Battiston, F.')"
      ]
     },
     "execution_count": 9,
     "metadata": {},
     "output_type": "execute_result"
    }
   ],
   "source": [
    "author"
   ]
  },
  {
   "cell_type": "code",
   "execution_count": 10,
   "id": "72e2e917",
   "metadata": {},
   "outputs": [
    {
     "data": {
      "text/plain": [
       "[Person('Zhang, Y. *'), Person('Lucas, M. *'), Person('Battiston, F.')]"
      ]
     },
     "execution_count": 10,
     "metadata": {},
     "output_type": "execute_result"
    }
   ],
   "source": [
    "bib_data.entries[paperKeys].persons['author']"
   ]
  },
  {
   "cell_type": "code",
   "execution_count": 11,
   "id": "f8cda702",
   "metadata": {},
   "outputs": [],
   "source": [
    "# go throuh all entries\n",
    "for paperKeys in bib_data.entries.keys():\n",
    "    # get the authors of this paper\n",
    "\n",
    "    listOfAuthors.append(bib_data.entries[paperKeys].persons['author'])\n",
    "    #authors = bib_data.entries[paperKeys].persons['author'].split(\" and \")\n",
    "    # save them to the list of authors\n",
    "    # for author in authors:"
   ]
  },
  {
   "cell_type": "code",
   "execution_count": 35,
   "id": "34224a7a",
   "metadata": {},
   "outputs": [],
   "source": [
    "listOfAuthors=[] # empty list of authors\n",
    "\n",
    "# go throuh all entries\n",
    "for paperKeys in bib_data.entries.keys():\n",
    "    # get the authors of this paper\n",
    "\n",
    "    #authors = bib_data.entries[paperKeys].persons['author'].split(\" and \")\n",
    "    # save them to the list of authors\n",
    "    for author in bib_data.entries[paperKeys].persons['author']:\n",
    "        listOfAuthors.append(str(author))"
   ]
  },
  {
   "cell_type": "code",
   "execution_count": 36,
   "id": "72522817",
   "metadata": {},
   "outputs": [
    {
     "data": {
      "text/plain": [
       "['Zhang, Y. *',\n",
       " 'Lucas, M. *',\n",
       " 'Battiston, F.',\n",
       " 'Lucas, M.',\n",
       " 'Morris, A.',\n",
       " 'Townsend-Teague, A.',\n",
       " 'Tichit, L.',\n",
       " 'Habermann, B. H.',\n",
       " 'Barrat, A.',\n",
       " 'Newman, J.',\n",
       " 'Lucas, M.',\n",
       " 'Stefanovska, A.',\n",
       " 'Lucas, M.',\n",
       " 'Newman, J.',\n",
       " 'Stefanovska, A.',\n",
       " 'Newman, J',\n",
       " 'Lucas, M.',\n",
       " 'Stefanovska, A.',\n",
       " 'Lucas, M.',\n",
       " 'Cencetti, G.',\n",
       " 'Battiston, F.',\n",
       " 'Battiston, F.',\n",
       " 'Cencetti, G.',\n",
       " 'Iacopini, I.',\n",
       " 'Latora, V.',\n",
       " 'Lucas, M.',\n",
       " 'Patania, A.',\n",
       " 'Young, J.-G.',\n",
       " 'Petri, G.',\n",
       " 'Lucas, M.',\n",
       " 'Lucas, M.',\n",
       " 'Fanelli, D.',\n",
       " 'Stefanovska, A.',\n",
       " 'Lucas, M.',\n",
       " 'Fanelli, D.',\n",
       " 'Carletti, T.',\n",
       " 'Petit, J.',\n",
       " 'Lucas, M.',\n",
       " 'Newman, J.',\n",
       " 'Stefanovska, A.',\n",
       " 'Lucas, M.',\n",
       " 'Lucas, M.',\n",
       " 'Duncan, R.',\n",
       " 'Lucas, M.']"
      ]
     },
     "execution_count": 36,
     "metadata": {},
     "output_type": "execute_result"
    }
   ],
   "source": [
    "listOfAuthors"
   ]
  },
  {
   "cell_type": "code",
   "execution_count": 38,
   "id": "c50f07e6",
   "metadata": {},
   "outputs": [
    {
     "data": {
      "text/plain": [
       "['Zhang, Y.',\n",
       " 'Lucas, M.',\n",
       " 'Battiston, F.',\n",
       " 'Lucas, M.',\n",
       " 'Morris, A.',\n",
       " 'Townsend-Teague, A.',\n",
       " 'Tichit, L.',\n",
       " 'Habermann, B. H.',\n",
       " 'Barrat, A.',\n",
       " 'Newman, J.',\n",
       " 'Lucas, M.',\n",
       " 'Stefanovska, A.',\n",
       " 'Lucas, M.',\n",
       " 'Newman, J.',\n",
       " 'Stefanovska, A.',\n",
       " 'Newman, J',\n",
       " 'Lucas, M.',\n",
       " 'Stefanovska, A.',\n",
       " 'Lucas, M.',\n",
       " 'Cencetti, G.',\n",
       " 'Battiston, F.',\n",
       " 'Battiston, F.',\n",
       " 'Cencetti, G.',\n",
       " 'Iacopini, I.',\n",
       " 'Latora, V.',\n",
       " 'Lucas, M.',\n",
       " 'Patania, A.',\n",
       " 'Young, J.-G.',\n",
       " 'Petri, G.',\n",
       " 'Lucas, M.',\n",
       " 'Lucas, M.',\n",
       " 'Fanelli, D.',\n",
       " 'Stefanovska, A.',\n",
       " 'Lucas, M.',\n",
       " 'Fanelli, D.',\n",
       " 'Carletti, T.',\n",
       " 'Petit, J.',\n",
       " 'Lucas, M.',\n",
       " 'Newman, J.',\n",
       " 'Stefanovska, A.',\n",
       " 'Lucas, M.',\n",
       " 'Lucas, M.',\n",
       " 'Duncan, R.',\n",
       " 'Lucas, M.']"
      ]
     },
     "execution_count": 38,
     "metadata": {},
     "output_type": "execute_result"
    }
   ],
   "source": [
    "[author.split('*')[0].strip() for author in listOfAuthors]"
   ]
  },
  {
   "cell_type": "code",
   "execution_count": 39,
   "id": "811c6c8f",
   "metadata": {},
   "outputs": [
    {
     "name": "stdout",
     "output_type": "stream",
     "text": [
      "no optional co-author information available\n"
     ]
    }
   ],
   "source": [
    "\n",
    "if deleteEgoNode == True:\n",
    "    # we assume that the author with the most entries is the ego node and delete it\n",
    "     egoNode = max(listOfAuthors, key=listOfAuthors.count) # returns the ego node\n",
    "     listOfAuthors = list(set(listOfAuthors)) # gets unique list of authors\n",
    "     listOfAuthors.pop(listOfAuthors.index(egoNode)) # deletes it from the list of authors\n",
    "     print(\"Removing the ego node: %s \" %egoNode )\n",
    "else:\n",
    "    listOfAuthors = list(set(listOfAuthors)) # gets unique list of authors\n",
    "\n",
    "nAuthors = len(listOfAuthors) # number of author nodes\n",
    "nPapers = len(bib_data.entries.keys()) # number of paper nodes\n",
    "\n",
    "\n",
    "# read the additional author information from the csv\n",
    "authorLinks_dict = {} # create an empty dictionary\n",
    "authorImage_dict = {} # create an empty dictionary\n",
    "\n",
    "try:\n",
    "    authorInfo_reader = csv.DictReader(open(authorInformationFile))\n",
    "    for row in authorInfo_reader:\n",
    "        authorLinks_dict[row['name']] = row['url']\n",
    "        authorImage_dict[row['name']] = row['image']\n",
    "except FileNotFoundError:\n",
    "    print(\"no optional co-author information available\")\n"
   ]
  },
  {
   "cell_type": "code",
   "execution_count": null,
   "id": "3ac1efb1",
   "metadata": {},
   "outputs": [],
   "source": []
  },
  {
   "cell_type": "code",
   "execution_count": 40,
   "id": "d6f0636f",
   "metadata": {},
   "outputs": [
    {
     "data": {
      "text/plain": [
       "'Duncan, R.'"
      ]
     },
     "execution_count": 40,
     "metadata": {},
     "output_type": "execute_result"
    }
   ],
   "source": [
    "str(listOfAuthors[0])"
   ]
  },
  {
   "cell_type": "code",
   "execution_count": 41,
   "id": "00d8bdd2",
   "metadata": {},
   "outputs": [
    {
     "name": "stdout",
     "output_type": "stream",
     "text": [
      "R. Duncan\n",
      "A. Morris\n",
      "T. Carletti\n",
      "D. Fanelli\n",
      "M. Lucas\n",
      "A. Townsend-Teague\n",
      "G. Petri\n",
      "F. Battiston\n",
      "I. Iacopini\n",
      "A. Barrat\n",
      "V. Latora\n",
      "A. Patania\n",
      "A. Stefanovska\n",
      "Y. * Zhang\n",
      "J. Newman\n",
      "J.-G. Young\n",
      "M. * Lucas\n",
      "B. H. Habermann\n",
      "J Newman\n",
      "G. Cencetti\n",
      "L. Tichit\n",
      "J. Petit\n"
     ]
    }
   ],
   "source": [
    "# create a dictionary reflecting the graph (there are more pythonic ways\n",
    "# possible to creat this, e.g., with zip, but this is easiest)\n",
    "node_list = []\n",
    "# create author nodes\n",
    "for i in range(nAuthors):\n",
    "    node_dict = {} # create an empty dictionary for this node\n",
    "    node_dict[\"id\"] = \"A\" + str(i)\n",
    "    node_dict[\"group\"] = 0\n",
    "    # invert the name such that the given name is before the last name\n",
    "    try: # we need this try to deal with single author papers\n",
    "        authorSplit = listOfAuthors[i].split(\",\")\n",
    "        nameThisAuthor = authorSplit[1][1::] + ' ' + authorSplit[0]\n",
    "    except:\n",
    "        authorSplit = listOfAuthors[i]\n",
    "        nameThisAuthor = authorSplit[1][1::] + ' ' + authorSplit[0]\n",
    "\n",
    "    nameThisAuthorUnicode = latex2unicode(nameThisAuthor)\n",
    "    print(nameThisAuthorUnicode)\n",
    "    node_dict[\"name\"] = nameThisAuthorUnicode\n",
    "    node_list.append(node_dict)\n",
    "    # try to set the url for this author but default is google it\n",
    "    node_dict[\"url\"] = \"https://www.google.com/search?q=\" + nameThisAuthor\n",
    "    try:\n",
    "        if authorLinks_dict[nameThisAuthor] is None:\n",
    "            raise KeyError('no information for this author')\n",
    "        else:\n",
    "            node_dict[\"url\"] = authorLinks_dict[nameThisAuthor]\n",
    "    except KeyError:\n",
    "        node_dict[\"url\"] = \"https://www.google.com/search?q=\" + nameThisAuthor\n",
    "\n",
    "        # try to set a image for this author\n",
    "    try:\n",
    "        node_dict[\"image\"] = authorImage_dict[nameThisAuthor]\n",
    "    except KeyError: # if no image jsut leave blank\n",
    "        node_dict[\"image\"] = []"
   ]
  },
  {
   "cell_type": "code",
   "execution_count": 43,
   "id": "e131735a",
   "metadata": {},
   "outputs": [],
   "source": [
    "# create the links between the nodes\n",
    "link_list = []\n",
    "i=0\n",
    "for paperKeys in bib_data.entries.keys(): # go over every paper\n",
    "    # create the paper node\n",
    "    node_dict = {} # create an empty dictionary for this node\n",
    "    node_dict[\"id\"] = \"P\" + str(i)\n",
    "    node_dict[\"group\"] = 1\n",
    "    thisPaperName = bib_data.entries[paperKeys].fields['title']\n",
    "    # remove curly bracket in paper name, remove it\n",
    "    if thisPaperName[0]=='{':\n",
    "        thisPaperName=thisPaperName[1:-1]\n",
    "    node_dict[\"name\"] =  thisPaperName\n",
    "    node_list.append(node_dict)\n",
    "\n",
    "    # set image for this paper\n",
    "    try:\n",
    "        node_dict[\"image\"] = bib_data.entries[paperKeys].fields['image']\n",
    "    except KeyError: # if no image just leave blank\n",
    "        node_dict[\"image\"] = []\n",
    "\n",
    "\n",
    "    # find the authors for this paper\n",
    "    authorsThisPaper = [str(i).split('*')[0].strip() for i in bib_data.entries[paperKeys].persons['author']]\n",
    "\n",
    "    # if the paper has a url, add it\n",
    "    try:\n",
    "        node_dict[\"url\"] = bib_data.entries[paperKeys].fields['url']\n",
    "    except KeyError: # otherwise refer to google\n",
    "        node_dict[\"url\"] = \"https://www.google.com/search?q=\" + bib_data.entries[paperKeys].fields['title']\n",
    "\n",
    "\n",
    "    for authors in authorsThisPaper:\n",
    "        link_dict = {} # empty dictionary for this edge\n",
    "        link_dict[\"source\"] = \"P\" + str(i) # attached to this paper\n",
    "        try:\n",
    "            link_dict[\"target\"] = \"A\" + str(listOfAuthors.index(authors)) # and attached to co-author\n",
    "            link_list.append(link_dict)    # save it into the list\n",
    "        except ValueError:\n",
    "            pass\n",
    "            #print(\"Author %s not in list, probably the ego node.\" %authors )\n",
    "    i=i+1\n",
    "\n",
    "# write into dictionary\n",
    "graph_dict = {\"nodes\" : node_list, \"links\" : link_list}\n",
    "\n",
    "\n",
    "# opening the file to write\n",
    "if outputJSONFileName:\n",
    "    # Writing JSON data\n",
    "    with open(outputJSONFileName, 'w') as f:\n",
    "        json.dump(graph_dict, f)\n"
   ]
  },
  {
   "cell_type": "code",
   "execution_count": null,
   "id": "29c2a899",
   "metadata": {},
   "outputs": [],
   "source": [
    "[author.split('*')[0].strip() for author in listOfAuthors]"
   ]
  }
 ],
 "metadata": {
  "kernelspec": {
   "display_name": "Python 3 (ipykernel)",
   "language": "python",
   "name": "python3"
  },
  "language_info": {
   "codemirror_mode": {
    "name": "ipython",
    "version": 3
   },
   "file_extension": ".py",
   "mimetype": "text/x-python",
   "name": "python",
   "nbconvert_exporter": "python",
   "pygments_lexer": "ipython3",
   "version": "3.9.10"
  }
 },
 "nbformat": 4,
 "nbformat_minor": 5
}
